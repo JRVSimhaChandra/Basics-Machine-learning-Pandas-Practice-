{
 "cells": [
  {
   "cell_type": "markdown",
   "id": "d91e104e-1884-4868-bbb0-03af7714047f",
   "metadata": {},
   "source": [
    "# Pandas\n",
    "\n",
    "Pandas is an open source library that is built on top of numpy library.It is python package that offers various data structure and operations for manpulating numeric data and time series.It is mainly popular for importing and analyzing data much easier."
   ]
  },
  {
   "cell_type": "markdown",
   "id": "112de83b-bfa2-4bc7-9618-e86ccbf228d9",
   "metadata": {},
   "source": [
    "# Why Pandas?\n",
    "\n",
    "Pandas allow us to analyze huge data and make conclusions based on statistical theories.\n",
    "\n",
    "Pandas clean messy data and make more readable.\n",
    "\n",
    "Pandas plays a very important role in datascience and machine learning."
   ]
  },
  {
   "cell_type": "markdown",
   "id": "d60e9d84-4c86-488e-83fb-a7c8862d69c4",
   "metadata": {},
   "source": [
    "# What pandas can do?\n",
    "\n",
    " Pandas can create series. \n",
    "\n",
    " Pandas can create data frame."
   ]
  },
  {
   "cell_type": "markdown",
   "id": "1279db2a-e440-4d69-98ce-42a61a247ce3",
   "metadata": {},
   "source": [
    "# Series\n",
    "\n",
    " Pandas in series is like a column in table.\n",
    "\n",
    " It is like one dimensional array holding data of any type."
   ]
  },
  {
   "cell_type": "code",
   "execution_count": 1,
   "id": "32ddb30b-1050-4a34-b267-32305aeaea76",
   "metadata": {},
   "outputs": [],
   "source": [
    "# Import basic libraries \n",
    "import numpy as np\n",
    "import pandas as pd"
   ]
  },
  {
   "cell_type": "code",
   "execution_count": 2,
   "id": "8c18d51b-f24b-438c-aad9-858f7ca32ba2",
   "metadata": {},
   "outputs": [
    {
     "name": "stdout",
     "output_type": "stream",
     "text": [
      "Series([], dtype: object)\n"
     ]
    }
   ],
   "source": [
    "# create empty series\n",
    "A=pd.Series()\n",
    "print(A)"
   ]
  },
  {
   "cell_type": "code",
   "execution_count": 3,
   "id": "69ca5449-121d-4d45-ad8f-ef3272bf2c1d",
   "metadata": {},
   "outputs": [
    {
     "name": "stdout",
     "output_type": "stream",
     "text": [
      "0    Hello\n",
      "dtype: object\n"
     ]
    }
   ],
   "source": [
    "# create Series with single element\n",
    "B=pd.Series(\"Hello\")\n",
    "print(B)"
   ]
  },
  {
   "cell_type": "code",
   "execution_count": 4,
   "id": "3041e3e4-69cd-463c-934f-e74e686af877",
   "metadata": {},
   "outputs": [
    {
     "name": "stdout",
     "output_type": "stream",
     "text": [
      "0      blue\n",
      "1     green\n",
      "2    orange\n",
      "dtype: object\n"
     ]
    }
   ],
   "source": [
    "# create Series using list \n",
    "colors=[\"blue\",\"green\",\"orange\"]\n",
    "Series=pd.Series(colors)\n",
    "print(Series)"
   ]
  },
  {
   "cell_type": "markdown",
   "id": "d2d25adc-2a1f-43df-985b-94e60df21768",
   "metadata": {},
   "source": [
    "# What is difference between List and Series\n",
    "\n",
    "List- In list is can store Square brackets [], Commas ,.\n",
    "\n",
    "Series- In series can store huge amount of everything format specfied data type."
   ]
  },
  {
   "cell_type": "code",
   "execution_count": 5,
   "id": "39269399-a954-4051-af04-00411f44618c",
   "metadata": {},
   "outputs": [
    {
     "name": "stdout",
     "output_type": "stream",
     "text": [
      "0    1000\n",
      "1    2000\n",
      "2    3000\n",
      "dtype: int64\n"
     ]
    }
   ],
   "source": [
    "# create series of using tuple\n",
    "tuple=(1000,2000,3000)\n",
    "Series=pd.Series(tuple)\n",
    "print(Series)"
   ]
  },
  {
   "cell_type": "code",
   "execution_count": 6,
   "id": "672c2440-8130-4a5a-9aa9-e9b05da3e594",
   "metadata": {},
   "outputs": [
    {
     "name": "stdout",
     "output_type": "stream",
     "text": [
      "101    John\n",
      "102    Mary\n",
      "103    Zara\n",
      "dtype: object\n"
     ]
    }
   ],
   "source": [
    "# create Series using dictionary \n",
    "dict={101: \"John\", 102: \"Mary\", 103: \"Zara\"}\n",
    "data=pd.Series(dict)\n",
    "print(data)"
   ]
  },
  {
   "cell_type": "code",
   "execution_count": 7,
   "id": "ed59653f-902c-4736-b32f-b5c3b3b1d358",
   "metadata": {},
   "outputs": [
    {
     "name": "stdout",
     "output_type": "stream",
     "text": [
      "0       Monday\n",
      "1      Tuesday\n",
      "2    Wednesday\n",
      "3     Thursday\n",
      "4       Friday\n",
      "5     Saturday\n",
      "6       Sunday\n",
      "dtype: object\n"
     ]
    }
   ],
   "source": [
    "A=pd.Series([\"Monday\",\"Tuesday\",\"Wednesday\",\"Thursday\",\"Friday\",\"Saturday\",\"Sunday\"])\n",
    "print(A)"
   ]
  },
  {
   "cell_type": "code",
   "execution_count": 8,
   "id": "ba989fa7-8b90-47cd-b3f6-e5195d8f8ea7",
   "metadata": {},
   "outputs": [],
   "source": [
    "# change index values\n",
    "A.index=[\"Day1\",\"Day2\",\"Day3\",\"Day4\",\"Day5\",\"Day6\",\"Day7\"]"
   ]
  },
  {
   "cell_type": "code",
   "execution_count": 9,
   "id": "5524e1d8-4cce-4762-b99e-0877627cbd46",
   "metadata": {},
   "outputs": [
    {
     "data": {
      "text/plain": [
       "Day1       Monday\n",
       "Day2      Tuesday\n",
       "Day3    Wednesday\n",
       "Day4     Thursday\n",
       "Day5       Friday\n",
       "Day6     Saturday\n",
       "Day7       Sunday\n",
       "dtype: object"
      ]
     },
     "execution_count": 9,
     "metadata": {},
     "output_type": "execute_result"
    }
   ],
   "source": [
    "A"
   ]
  },
  {
   "cell_type": "code",
   "execution_count": 10,
   "id": "bdb1b6c3-ed3e-4928-8755-554b74009e82",
   "metadata": {},
   "outputs": [
    {
     "name": "stderr",
     "output_type": "stream",
     "text": [
      "C:\\Users\\chand\\AppData\\Local\\Temp\\ipykernel_19256\\303350297.py:1: FutureWarning: Series.__getitem__ treating keys as positions is deprecated. In a future version, integer keys will always be treated as labels (consistent with DataFrame behavior). To access a value by position, use `ser.iloc[pos]`\n",
      "  A[0]\n"
     ]
    },
    {
     "data": {
      "text/plain": [
       "'Monday'"
      ]
     },
     "execution_count": 10,
     "metadata": {},
     "output_type": "execute_result"
    }
   ],
   "source": [
    "A[0]"
   ]
  },
  {
   "cell_type": "code",
   "execution_count": 11,
   "id": "74b8dcf0-91c4-440c-a034-31b4b77f668d",
   "metadata": {},
   "outputs": [
    {
     "data": {
      "text/plain": [
       "'Tuesday'"
      ]
     },
     "execution_count": 11,
     "metadata": {},
     "output_type": "execute_result"
    }
   ],
   "source": [
    "A[\"Day2\"]"
   ]
  },
  {
   "cell_type": "code",
   "execution_count": 12,
   "id": "54f445dd-6a77-483d-9a2e-8c596e69caf9",
   "metadata": {},
   "outputs": [
    {
     "data": {
      "text/plain": [
       "'Sunday'"
      ]
     },
     "execution_count": 12,
     "metadata": {},
     "output_type": "execute_result"
    }
   ],
   "source": [
    "A[\"Day7\"]"
   ]
  },
  {
   "cell_type": "code",
   "execution_count": 13,
   "id": "0e5203c3-1094-4b98-9460-098ed63fd939",
   "metadata": {},
   "outputs": [
    {
     "data": {
      "text/plain": [
       "'Wednesday'"
      ]
     },
     "execution_count": 13,
     "metadata": {},
     "output_type": "execute_result"
    }
   ],
   "source": [
    "A[\"Day3\"]"
   ]
  },
  {
   "cell_type": "code",
   "execution_count": 14,
   "id": "dc420483-fbb5-456b-ad50-48e54d8b5253",
   "metadata": {},
   "outputs": [
    {
     "data": {
      "text/plain": [
       "Day2    Tuesday\n",
       "dtype: object"
      ]
     },
     "execution_count": 14,
     "metadata": {},
     "output_type": "execute_result"
    }
   ],
   "source": [
    "A[1:2]"
   ]
  },
  {
   "cell_type": "code",
   "execution_count": 15,
   "id": "22f62fbd-602e-4dd4-86ee-bae2ae089ee3",
   "metadata": {},
   "outputs": [
    {
     "data": {
      "text/plain": [
       "Day3    Wednesday\n",
       "Day4     Thursday\n",
       "dtype: object"
      ]
     },
     "execution_count": 15,
     "metadata": {},
     "output_type": "execute_result"
    }
   ],
   "source": [
    "A[2:4]"
   ]
  },
  {
   "cell_type": "code",
   "execution_count": 16,
   "id": "02f2859b-cd69-4a63-be0a-f3f4ad81a63e",
   "metadata": {},
   "outputs": [
    {
     "data": {
      "text/plain": [
       "Day6    Saturday\n",
       "Day7      Sunday\n",
       "dtype: object"
      ]
     },
     "execution_count": 16,
     "metadata": {},
     "output_type": "execute_result"
    }
   ],
   "source": [
    "A[5:7]"
   ]
  },
  {
   "cell_type": "markdown",
   "id": "63a96040-f70b-42bd-8d8f-048da4c1647f",
   "metadata": {},
   "source": [
    "# Data Frame \n",
    "\n",
    "Data frame in pandas is a two dimensional data structure is data aligned in a tabular fashion rows and columns."
   ]
  },
  {
   "cell_type": "markdown",
   "id": "eb7ee506-a575-4f64-ab43-c5a05f2df650",
   "metadata": {},
   "source": [
    "# Features of Data Frame\n",
    "\n",
    " Columns are of different data types.\n",
    "\n",
    " It will have labelled axes(Rows and Columns).\n",
    "\n",
    " We can access values, rows and columns.\n",
    "\n",
    " Can perform Arithmetic operations on row and columns."
   ]
  },
  {
   "cell_type": "code",
   "execution_count": 17,
   "id": "554200a5-452e-4b13-b44d-2ad0b4299036",
   "metadata": {},
   "outputs": [],
   "source": [
    "# Syntax\n",
    "# pd.DataFrame(data,index,columns)"
   ]
  },
  {
   "cell_type": "code",
   "execution_count": 18,
   "id": "8c8ba2dd-921b-4eb6-9c2d-25b6428953a7",
   "metadata": {},
   "outputs": [
    {
     "name": "stdout",
     "output_type": "stream",
     "text": [
      "   0  1  2\n",
      "0  1  2  3\n",
      "1  4  5  6\n",
      "2  7  8  9\n",
      "3  1  6  8\n"
     ]
    }
   ],
   "source": [
    "# Create dataframe using nested list\n",
    "list=[[1,2,3],[4,5,6],[7,8,9],[1,6,8]]\n",
    "A=pd.DataFrame(list)\n",
    "print(A)"
   ]
  },
  {
   "cell_type": "code",
   "execution_count": 19,
   "id": "bc1c93ab-e5ed-41ac-863b-ecb23916bc06",
   "metadata": {},
   "outputs": [
    {
     "data": {
      "text/html": [
       "<div>\n",
       "<style scoped>\n",
       "    .dataframe tbody tr th:only-of-type {\n",
       "        vertical-align: middle;\n",
       "    }\n",
       "\n",
       "    .dataframe tbody tr th {\n",
       "        vertical-align: top;\n",
       "    }\n",
       "\n",
       "    .dataframe thead th {\n",
       "        text-align: right;\n",
       "    }\n",
       "</style>\n",
       "<table border=\"1\" class=\"dataframe\">\n",
       "  <thead>\n",
       "    <tr style=\"text-align: right;\">\n",
       "      <th></th>\n",
       "      <th>0</th>\n",
       "      <th>1</th>\n",
       "    </tr>\n",
       "  </thead>\n",
       "  <tbody>\n",
       "    <tr>\n",
       "      <th>0</th>\n",
       "      <td>John</td>\n",
       "      <td>40</td>\n",
       "    </tr>\n",
       "    <tr>\n",
       "      <th>1</th>\n",
       "      <td>Mary</td>\n",
       "      <td>50</td>\n",
       "    </tr>\n",
       "    <tr>\n",
       "      <th>2</th>\n",
       "      <td>Zara</td>\n",
       "      <td>60</td>\n",
       "    </tr>\n",
       "  </tbody>\n",
       "</table>\n",
       "</div>"
      ],
      "text/plain": [
       "      0   1\n",
       "0  John  40\n",
       "1  Mary  50\n",
       "2  Zara  60"
      ]
     },
     "execution_count": 19,
     "metadata": {},
     "output_type": "execute_result"
    }
   ],
   "source": [
    "data=[[\"John\",40],[\"Mary\",50],[\"Zara\",60]]\n",
    "B=pd.DataFrame(data)\n",
    "B"
   ]
  },
  {
   "cell_type": "code",
   "execution_count": 20,
   "id": "76a3fb4a-b887-4068-b958-66216b50e2e5",
   "metadata": {},
   "outputs": [
    {
     "data": {
      "text/html": [
       "<div>\n",
       "<style scoped>\n",
       "    .dataframe tbody tr th:only-of-type {\n",
       "        vertical-align: middle;\n",
       "    }\n",
       "\n",
       "    .dataframe tbody tr th {\n",
       "        vertical-align: top;\n",
       "    }\n",
       "\n",
       "    .dataframe thead th {\n",
       "        text-align: right;\n",
       "    }\n",
       "</style>\n",
       "<table border=\"1\" class=\"dataframe\">\n",
       "  <thead>\n",
       "    <tr style=\"text-align: right;\">\n",
       "      <th></th>\n",
       "      <th>Name</th>\n",
       "      <th>Age</th>\n",
       "    </tr>\n",
       "  </thead>\n",
       "  <tbody>\n",
       "    <tr>\n",
       "      <th>0</th>\n",
       "      <td>John</td>\n",
       "      <td>40</td>\n",
       "    </tr>\n",
       "    <tr>\n",
       "      <th>1</th>\n",
       "      <td>Mary</td>\n",
       "      <td>50</td>\n",
       "    </tr>\n",
       "    <tr>\n",
       "      <th>2</th>\n",
       "      <td>Zara</td>\n",
       "      <td>60</td>\n",
       "    </tr>\n",
       "  </tbody>\n",
       "</table>\n",
       "</div>"
      ],
      "text/plain": [
       "   Name  Age\n",
       "0  John   40\n",
       "1  Mary   50\n",
       "2  Zara   60"
      ]
     },
     "execution_count": 20,
     "metadata": {},
     "output_type": "execute_result"
    }
   ],
   "source": [
    "data=[[\"John\",40],[\"Mary\",50],[\"Zara\",60]]\n",
    "B=pd.DataFrame(data,columns=[\"Name\",\"Age\"])\n",
    "B"
   ]
  },
  {
   "cell_type": "code",
   "execution_count": 21,
   "id": "dbf9f7e2-2c99-406c-a44c-56f48f7aa653",
   "metadata": {},
   "outputs": [
    {
     "data": {
      "text/html": [
       "<div>\n",
       "<style scoped>\n",
       "    .dataframe tbody tr th:only-of-type {\n",
       "        vertical-align: middle;\n",
       "    }\n",
       "\n",
       "    .dataframe tbody tr th {\n",
       "        vertical-align: top;\n",
       "    }\n",
       "\n",
       "    .dataframe thead th {\n",
       "        text-align: right;\n",
       "    }\n",
       "</style>\n",
       "<table border=\"1\" class=\"dataframe\">\n",
       "  <thead>\n",
       "    <tr style=\"text-align: right;\">\n",
       "      <th></th>\n",
       "      <th>Name</th>\n",
       "      <th>Age</th>\n",
       "    </tr>\n",
       "  </thead>\n",
       "  <tbody>\n",
       "    <tr>\n",
       "      <th>101</th>\n",
       "      <td>John</td>\n",
       "      <td>40</td>\n",
       "    </tr>\n",
       "    <tr>\n",
       "      <th>102</th>\n",
       "      <td>Mary</td>\n",
       "      <td>50</td>\n",
       "    </tr>\n",
       "    <tr>\n",
       "      <th>103</th>\n",
       "      <td>Zara</td>\n",
       "      <td>60</td>\n",
       "    </tr>\n",
       "  </tbody>\n",
       "</table>\n",
       "</div>"
      ],
      "text/plain": [
       "     Name  Age\n",
       "101  John   40\n",
       "102  Mary   50\n",
       "103  Zara   60"
      ]
     },
     "execution_count": 21,
     "metadata": {},
     "output_type": "execute_result"
    }
   ],
   "source": [
    "data=[[\"John\",40],[\"Mary\",50],[\"Zara\",60]]\n",
    "B=pd.DataFrame(data,columns=[\"Name\",\"Age\"],index=[101,102,103])\n",
    "B"
   ]
  },
  {
   "cell_type": "code",
   "execution_count": 22,
   "id": "2937dfef-ee78-4fb5-a94a-5aa6c0fb6599",
   "metadata": {},
   "outputs": [
    {
     "data": {
      "text/html": [
       "<div>\n",
       "<style scoped>\n",
       "    .dataframe tbody tr th:only-of-type {\n",
       "        vertical-align: middle;\n",
       "    }\n",
       "\n",
       "    .dataframe tbody tr th {\n",
       "        vertical-align: top;\n",
       "    }\n",
       "\n",
       "    .dataframe thead th {\n",
       "        text-align: right;\n",
       "    }\n",
       "</style>\n",
       "<table border=\"1\" class=\"dataframe\">\n",
       "  <thead>\n",
       "    <tr style=\"text-align: right;\">\n",
       "      <th></th>\n",
       "      <th>Name</th>\n",
       "      <th>Age</th>\n",
       "      <th>Job</th>\n",
       "      <th>Salary</th>\n",
       "    </tr>\n",
       "  </thead>\n",
       "  <tbody>\n",
       "    <tr>\n",
       "      <th>0</th>\n",
       "      <td>John</td>\n",
       "      <td>45</td>\n",
       "      <td>HR</td>\n",
       "      <td>30000</td>\n",
       "    </tr>\n",
       "    <tr>\n",
       "      <th>1</th>\n",
       "      <td>Mary</td>\n",
       "      <td>35</td>\n",
       "      <td>Manager</td>\n",
       "      <td>40000</td>\n",
       "    </tr>\n",
       "    <tr>\n",
       "      <th>2</th>\n",
       "      <td>Zara</td>\n",
       "      <td>67</td>\n",
       "      <td>Analyst</td>\n",
       "      <td>50000</td>\n",
       "    </tr>\n",
       "  </tbody>\n",
       "</table>\n",
       "</div>"
      ],
      "text/plain": [
       "   Name  Age      Job  Salary\n",
       "0  John   45       HR   30000\n",
       "1  Mary   35  Manager   40000\n",
       "2  Zara   67  Analyst   50000"
      ]
     },
     "execution_count": 22,
     "metadata": {},
     "output_type": "execute_result"
    }
   ],
   "source": [
    "# create dataframe using dictionary\n",
    "dict={\"Name\":[\"John\",\"Mary\",\"Zara\"],\"Age\":[45,35,67],\"Job\":[\"HR\",\"Manager\",\"Analyst\"],\"Salary\":[30000,40000,50000]}\n",
    "data=pd.DataFrame(dict)\n",
    "data"
   ]
  },
  {
   "cell_type": "code",
   "execution_count": 23,
   "id": "fd04488f-de14-41ec-8b5b-60ebfde9a70c",
   "metadata": {},
   "outputs": [
    {
     "data": {
      "text/html": [
       "<div>\n",
       "<style scoped>\n",
       "    .dataframe tbody tr th:only-of-type {\n",
       "        vertical-align: middle;\n",
       "    }\n",
       "\n",
       "    .dataframe tbody tr th {\n",
       "        vertical-align: top;\n",
       "    }\n",
       "\n",
       "    .dataframe thead th {\n",
       "        text-align: right;\n",
       "    }\n",
       "</style>\n",
       "<table border=\"1\" class=\"dataframe\">\n",
       "  <thead>\n",
       "    <tr style=\"text-align: right;\">\n",
       "      <th></th>\n",
       "      <th>Name</th>\n",
       "      <th>Age</th>\n",
       "      <th>Job</th>\n",
       "      <th>Salary</th>\n",
       "    </tr>\n",
       "  </thead>\n",
       "  <tbody>\n",
       "    <tr>\n",
       "      <th>101</th>\n",
       "      <td>John</td>\n",
       "      <td>45</td>\n",
       "      <td>HR</td>\n",
       "      <td>30000</td>\n",
       "    </tr>\n",
       "    <tr>\n",
       "      <th>102</th>\n",
       "      <td>Mary</td>\n",
       "      <td>35</td>\n",
       "      <td>Manager</td>\n",
       "      <td>40000</td>\n",
       "    </tr>\n",
       "    <tr>\n",
       "      <th>103</th>\n",
       "      <td>Zara</td>\n",
       "      <td>67</td>\n",
       "      <td>Analyst</td>\n",
       "      <td>50000</td>\n",
       "    </tr>\n",
       "  </tbody>\n",
       "</table>\n",
       "</div>"
      ],
      "text/plain": [
       "     Name  Age      Job  Salary\n",
       "101  John   45       HR   30000\n",
       "102  Mary   35  Manager   40000\n",
       "103  Zara   67  Analyst   50000"
      ]
     },
     "execution_count": 23,
     "metadata": {},
     "output_type": "execute_result"
    }
   ],
   "source": [
    "dict={\"Name\":[\"John\",\"Mary\",\"Zara\"],\"Age\":[45,35,67],\"Job\":[\"HR\",\"Manager\",\"Analyst\"],\"Salary\":[30000,40000,50000]}\n",
    "data=pd.DataFrame(dict,index=[101,102,103])\n",
    "data"
   ]
  },
  {
   "cell_type": "markdown",
   "id": "1221f4b3-cec8-4a30-92b0-0c2ff41bc55d",
   "metadata": {},
   "source": [
    "# No of values in each columns should be same when we create data frame using dictionary"
   ]
  },
  {
   "cell_type": "code",
   "execution_count": 26,
   "id": "d25e4206-e3b5-4cc4-a751-82ab91da473b",
   "metadata": {},
   "outputs": [
    {
     "data": {
      "text/html": [
       "<div>\n",
       "<style scoped>\n",
       "    .dataframe tbody tr th:only-of-type {\n",
       "        vertical-align: middle;\n",
       "    }\n",
       "\n",
       "    .dataframe tbody tr th {\n",
       "        vertical-align: top;\n",
       "    }\n",
       "\n",
       "    .dataframe thead th {\n",
       "        text-align: right;\n",
       "    }\n",
       "</style>\n",
       "<table border=\"1\" class=\"dataframe\">\n",
       "  <thead>\n",
       "    <tr style=\"text-align: right;\">\n",
       "      <th></th>\n",
       "      <th>fruits</th>\n",
       "      <th>no_of_fruits</th>\n",
       "      <th>price_per_kilo</th>\n",
       "    </tr>\n",
       "  </thead>\n",
       "  <tbody>\n",
       "    <tr>\n",
       "      <th>0</th>\n",
       "      <td>apple</td>\n",
       "      <td>40</td>\n",
       "      <td>NaN</td>\n",
       "    </tr>\n",
       "    <tr>\n",
       "      <th>1</th>\n",
       "      <td>orange</td>\n",
       "      <td>60</td>\n",
       "      <td>120.0</td>\n",
       "    </tr>\n",
       "    <tr>\n",
       "      <th>2</th>\n",
       "      <td>mango</td>\n",
       "      <td>40</td>\n",
       "      <td>NaN</td>\n",
       "    </tr>\n",
       "  </tbody>\n",
       "</table>\n",
       "</div>"
      ],
      "text/plain": [
       "   fruits  no_of_fruits  price_per_kilo\n",
       "0   apple            40             NaN\n",
       "1  orange            60           120.0\n",
       "2   mango            40             NaN"
      ]
     },
     "execution_count": 26,
     "metadata": {},
     "output_type": "execute_result"
    }
   ],
   "source": [
    "list=[['apple',40],['orange',60,120],['mango',40]]\n",
    "A=pd.DataFrame(list,columns=[\"fruits\",\"no_of_fruits\",\"price_per_kilo\"])\n",
    "A"
   ]
  },
  {
   "cell_type": "markdown",
   "id": "81a8256d-6080-4a5a-9c42-bde2b69817e9",
   "metadata": {},
   "source": [
    "# Nan/None/Null are the missing values"
   ]
  },
  {
   "cell_type": "code",
   "execution_count": 27,
   "id": "96c79d15-28f1-4f42-bdb5-f399c38b179f",
   "metadata": {},
   "outputs": [
    {
     "data": {
      "text/html": [
       "<div>\n",
       "<style scoped>\n",
       "    .dataframe tbody tr th:only-of-type {\n",
       "        vertical-align: middle;\n",
       "    }\n",
       "\n",
       "    .dataframe tbody tr th {\n",
       "        vertical-align: top;\n",
       "    }\n",
       "\n",
       "    .dataframe thead th {\n",
       "        text-align: right;\n",
       "    }\n",
       "</style>\n",
       "<table border=\"1\" class=\"dataframe\">\n",
       "  <thead>\n",
       "    <tr style=\"text-align: right;\">\n",
       "      <th></th>\n",
       "      <th>Name</th>\n",
       "      <th>Age</th>\n",
       "      <th>Job</th>\n",
       "      <th>Salary</th>\n",
       "    </tr>\n",
       "  </thead>\n",
       "  <tbody>\n",
       "    <tr>\n",
       "      <th>101</th>\n",
       "      <td>John</td>\n",
       "      <td>45</td>\n",
       "      <td>HR</td>\n",
       "      <td>30000</td>\n",
       "    </tr>\n",
       "    <tr>\n",
       "      <th>102</th>\n",
       "      <td>Mary</td>\n",
       "      <td>35</td>\n",
       "      <td>Manager</td>\n",
       "      <td>40000</td>\n",
       "    </tr>\n",
       "    <tr>\n",
       "      <th>103</th>\n",
       "      <td>Zara</td>\n",
       "      <td>67</td>\n",
       "      <td>Analyst</td>\n",
       "      <td>50000</td>\n",
       "    </tr>\n",
       "  </tbody>\n",
       "</table>\n",
       "</div>"
      ],
      "text/plain": [
       "     Name  Age      Job  Salary\n",
       "101  John   45       HR   30000\n",
       "102  Mary   35  Manager   40000\n",
       "103  Zara   67  Analyst   50000"
      ]
     },
     "execution_count": 27,
     "metadata": {},
     "output_type": "execute_result"
    }
   ],
   "source": [
    "# How to sort data\n",
    "data"
   ]
  },
  {
   "cell_type": "code",
   "execution_count": 28,
   "id": "ee018fe7-75eb-4dfd-9b5b-b1ac64b8d6d9",
   "metadata": {},
   "outputs": [
    {
     "data": {
      "text/html": [
       "<div>\n",
       "<style scoped>\n",
       "    .dataframe tbody tr th:only-of-type {\n",
       "        vertical-align: middle;\n",
       "    }\n",
       "\n",
       "    .dataframe tbody tr th {\n",
       "        vertical-align: top;\n",
       "    }\n",
       "\n",
       "    .dataframe thead th {\n",
       "        text-align: right;\n",
       "    }\n",
       "</style>\n",
       "<table border=\"1\" class=\"dataframe\">\n",
       "  <thead>\n",
       "    <tr style=\"text-align: right;\">\n",
       "      <th></th>\n",
       "      <th>Name</th>\n",
       "      <th>Age</th>\n",
       "      <th>Job</th>\n",
       "      <th>Salary</th>\n",
       "    </tr>\n",
       "  </thead>\n",
       "  <tbody>\n",
       "    <tr>\n",
       "      <th>101</th>\n",
       "      <td>John</td>\n",
       "      <td>45</td>\n",
       "      <td>HR</td>\n",
       "      <td>30000</td>\n",
       "    </tr>\n",
       "    <tr>\n",
       "      <th>102</th>\n",
       "      <td>Mary</td>\n",
       "      <td>35</td>\n",
       "      <td>Manager</td>\n",
       "      <td>40000</td>\n",
       "    </tr>\n",
       "    <tr>\n",
       "      <th>103</th>\n",
       "      <td>Zara</td>\n",
       "      <td>67</td>\n",
       "      <td>Analyst</td>\n",
       "      <td>50000</td>\n",
       "    </tr>\n",
       "  </tbody>\n",
       "</table>\n",
       "</div>"
      ],
      "text/plain": [
       "     Name  Age      Job  Salary\n",
       "101  John   45       HR   30000\n",
       "102  Mary   35  Manager   40000\n",
       "103  Zara   67  Analyst   50000"
      ]
     },
     "execution_count": 28,
     "metadata": {},
     "output_type": "execute_result"
    }
   ],
   "source": [
    "data.sort_values(\"Salary\")"
   ]
  },
  {
   "cell_type": "code",
   "execution_count": 35,
   "id": "8e08f6fe-b566-4362-a576-d7255078cc27",
   "metadata": {},
   "outputs": [
    {
     "data": {
      "text/html": [
       "<div>\n",
       "<style scoped>\n",
       "    .dataframe tbody tr th:only-of-type {\n",
       "        vertical-align: middle;\n",
       "    }\n",
       "\n",
       "    .dataframe tbody tr th {\n",
       "        vertical-align: top;\n",
       "    }\n",
       "\n",
       "    .dataframe thead th {\n",
       "        text-align: right;\n",
       "    }\n",
       "</style>\n",
       "<table border=\"1\" class=\"dataframe\">\n",
       "  <thead>\n",
       "    <tr style=\"text-align: right;\">\n",
       "      <th></th>\n",
       "      <th>Name</th>\n",
       "      <th>Age</th>\n",
       "      <th>Job</th>\n",
       "      <th>Salary</th>\n",
       "    </tr>\n",
       "  </thead>\n",
       "  <tbody>\n",
       "    <tr>\n",
       "      <th>101</th>\n",
       "      <td>John</td>\n",
       "      <td>45</td>\n",
       "      <td>HR</td>\n",
       "      <td>30000</td>\n",
       "    </tr>\n",
       "    <tr>\n",
       "      <th>102</th>\n",
       "      <td>Mary</td>\n",
       "      <td>35</td>\n",
       "      <td>Manager</td>\n",
       "      <td>40000</td>\n",
       "    </tr>\n",
       "    <tr>\n",
       "      <th>103</th>\n",
       "      <td>Zara</td>\n",
       "      <td>67</td>\n",
       "      <td>Analyst</td>\n",
       "      <td>50000</td>\n",
       "    </tr>\n",
       "  </tbody>\n",
       "</table>\n",
       "</div>"
      ],
      "text/plain": [
       "     Name  Age      Job  Salary\n",
       "101  John   45       HR   30000\n",
       "102  Mary   35  Manager   40000\n",
       "103  Zara   67  Analyst   50000"
      ]
     },
     "execution_count": 35,
     "metadata": {},
     "output_type": "execute_result"
    }
   ],
   "source": [
    "data.sort_values(\"Salary\",ascending=False)\n",
    "data"
   ]
  },
  {
   "cell_type": "code",
   "execution_count": 39,
   "id": "431e4243-9742-43c5-b37c-185d3bff9598",
   "metadata": {},
   "outputs": [
    {
     "data": {
      "text/html": [
       "<div>\n",
       "<style scoped>\n",
       "    .dataframe tbody tr th:only-of-type {\n",
       "        vertical-align: middle;\n",
       "    }\n",
       "\n",
       "    .dataframe tbody tr th {\n",
       "        vertical-align: top;\n",
       "    }\n",
       "\n",
       "    .dataframe thead th {\n",
       "        text-align: right;\n",
       "    }\n",
       "</style>\n",
       "<table border=\"1\" class=\"dataframe\">\n",
       "  <thead>\n",
       "    <tr style=\"text-align: right;\">\n",
       "      <th></th>\n",
       "      <th>Name</th>\n",
       "      <th>Age</th>\n",
       "      <th>Job</th>\n",
       "      <th>Salary</th>\n",
       "    </tr>\n",
       "  </thead>\n",
       "  <tbody>\n",
       "    <tr>\n",
       "      <th>101</th>\n",
       "      <td>John</td>\n",
       "      <td>45</td>\n",
       "      <td>HR</td>\n",
       "      <td>30000</td>\n",
       "    </tr>\n",
       "    <tr>\n",
       "      <th>102</th>\n",
       "      <td>Mary</td>\n",
       "      <td>35</td>\n",
       "      <td>Manager</td>\n",
       "      <td>40000</td>\n",
       "    </tr>\n",
       "    <tr>\n",
       "      <th>103</th>\n",
       "      <td>Zara</td>\n",
       "      <td>67</td>\n",
       "      <td>Analyst</td>\n",
       "      <td>50000</td>\n",
       "    </tr>\n",
       "  </tbody>\n",
       "</table>\n",
       "</div>"
      ],
      "text/plain": [
       "     Name  Age      Job  Salary\n",
       "101  John   45       HR   30000\n",
       "102  Mary   35  Manager   40000\n",
       "103  Zara   67  Analyst   50000"
      ]
     },
     "execution_count": 39,
     "metadata": {},
     "output_type": "execute_result"
    }
   ],
   "source": [
    "data"
   ]
  },
  {
   "cell_type": "code",
   "execution_count": 41,
   "id": "77ac81d6-f512-481d-b6c1-271c295f8799",
   "metadata": {},
   "outputs": [],
   "source": [
    "# To sort in ascending by default it sorts in ascending or else just give ascending=True\n",
    "# To sort indescending  give ascending=False\n",
    "# To make permanent change inplace= True\n",
    "# How to create copy of data\n",
    "# Copy it helps in creating duplicate of original data"
   ]
  }
 ],
 "metadata": {
  "kernelspec": {
   "display_name": "Python 3 (ipykernel)",
   "language": "python",
   "name": "python3"
  },
  "language_info": {
   "codemirror_mode": {
    "name": "ipython",
    "version": 3
   },
   "file_extension": ".py",
   "mimetype": "text/x-python",
   "name": "python",
   "nbconvert_exporter": "python",
   "pygments_lexer": "ipython3",
   "version": "3.12.4"
  }
 },
 "nbformat": 4,
 "nbformat_minor": 5
}
